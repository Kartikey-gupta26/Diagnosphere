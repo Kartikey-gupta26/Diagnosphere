{
 "cells": [
  {
   "cell_type": "code",
   "execution_count": 1,
   "metadata": {},
   "outputs": [],
   "source": [
    "import tensorflow as tf\n",
    "import numpy as np\n",
    "import matplotlib.pyplot as plt\n",
    "from tensorflow.keras.preprocessing import image_dataset_from_directory\n",
    "from tensorflow.keras.layers import Dense, GlobalAveragePooling2D\n",
    "from tensorflow.keras.models import Model\n",
    "from tensorflow.keras.applications import MobileNetV2\n",
    "from tensorflow.keras.callbacks import ModelCheckpoint"
   ]
  },
  {
   "cell_type": "code",
   "execution_count": 2,
   "metadata": {},
   "outputs": [
    {
     "name": "stdout",
     "output_type": "stream",
     "text": [
      "GPU is available and configured.\n"
     ]
    }
   ],
   "source": [
    "# Ensure TensorFlow runs on GPU (optional)\n",
    "gpus = tf.config.experimental.list_physical_devices('GPU')\n",
    "if gpus:\n",
    "    for gpu in gpus:\n",
    "        tf.config.experimental.set_memory_growth(gpu, True)\n",
    "    print(\"GPU is available and configured.\")"
   ]
  },
  {
   "cell_type": "code",
   "execution_count": 3,
   "metadata": {},
   "outputs": [],
   "source": [
    "# Define dataset directories\n",
    "ct_dataset_path = \"C:/Users/karti/Desktop/Projects/DiagnoSphere/Dataset/BrainTumor/Brain Tumor CT scan Images\"\n",
    "mri_dataset_path = \"C:/Users/karti/Desktop/Projects/DiagnoSphere/Dataset/BrainTumor/Brain Tumor MRI images\"\n",
    "img_size = (224, 224)\n",
    "batch_size = 32"
   ]
  },
  {
   "cell_type": "code",
   "execution_count": 4,
   "metadata": {},
   "outputs": [
    {
     "name": "stdout",
     "output_type": "stream",
     "text": [
      "Found 4618 files belonging to 2 classes.\n",
      "Found 5000 files belonging to 2 classes.\n"
     ]
    }
   ],
   "source": [
    "# Load datasets\n",
    "ct_ds = image_dataset_from_directory(\n",
    "    ct_dataset_path, batch_size=batch_size, image_size=img_size, shuffle=True\n",
    ")\n",
    "mri_ds = image_dataset_from_directory(\n",
    "    mri_dataset_path, batch_size=batch_size, image_size=img_size, shuffle=True\n",
    ")"
   ]
  },
  {
   "cell_type": "code",
   "execution_count": 5,
   "metadata": {},
   "outputs": [],
   "source": [
    "# Combine datasets\n",
    "dataset = ct_ds.concatenate(mri_ds)"
   ]
  },
  {
   "cell_type": "code",
   "execution_count": 6,
   "metadata": {},
   "outputs": [],
   "source": [
    "# Split into train and validation sets (80-20 split)\n",
    "train_size = int(0.8 * len(dataset))\n",
    "train_ds = dataset.take(train_size)\n",
    "val_ds = dataset.skip(train_size)"
   ]
  },
  {
   "cell_type": "code",
   "execution_count": 7,
   "metadata": {},
   "outputs": [],
   "source": [
    "# Apply prefetching for performance\n",
    "AUTOTUNE = tf.data.AUTOTUNE\n",
    "train_ds = train_ds.prefetch(buffer_size=AUTOTUNE)\n",
    "val_ds = val_ds.prefetch(buffer_size=AUTOTUNE)"
   ]
  },
  {
   "cell_type": "code",
   "execution_count": 8,
   "metadata": {},
   "outputs": [],
   "source": [
    "# Load pre-trained MobileNetV2 model\n",
    "base_model = MobileNetV2(input_shape=(224, 224, 3), include_top=False, weights=\"imagenet\")\n",
    "base_model.trainable = False  # Freeze base model"
   ]
  },
  {
   "cell_type": "code",
   "execution_count": 9,
   "metadata": {},
   "outputs": [],
   "source": [
    "# Add custom classification layers\n",
    "x = base_model.output  # Get base model output\n",
    "x = GlobalAveragePooling2D()(x)\n",
    "x = Dense(128, activation=\"relu\")(x)\n",
    "x = Dense(64, activation=\"relu\")(x)\n",
    "x = Dense(1, activation=\"sigmoid\")(x)  # Binary classification"
   ]
  },
  {
   "cell_type": "code",
   "execution_count": 10,
   "metadata": {},
   "outputs": [],
   "source": [
    "# Create model\n",
    "model = Model(inputs=base_model.input, outputs=x)"
   ]
  },
  {
   "cell_type": "code",
   "execution_count": 11,
   "metadata": {},
   "outputs": [],
   "source": [
    "# Compile model\n",
    "model.compile(optimizer=\"adam\", loss=\"binary_crossentropy\", metrics=[\"accuracy\"])"
   ]
  },
  {
   "cell_type": "code",
   "execution_count": 13,
   "metadata": {},
   "outputs": [],
   "source": [
    "# Define checkpoint callback to save the best model\n",
    "checkpoint_callback = ModelCheckpoint(\n",
    "    \"best_model.h5\",  # File name to save\n",
    "    monitor=\"val_accuracy\",  # Monitor validation accuracy\n",
    "    save_best_only=True,  # Save only the best model\n",
    "    mode=\"max\",  # Save when val_accuracy is maximized\n",
    "    verbose=1\n",
    ")"
   ]
  },
  {
   "cell_type": "code",
   "execution_count": 14,
   "metadata": {},
   "outputs": [
    {
     "name": "stdout",
     "output_type": "stream",
     "text": [
      "Epoch 1/10\n",
      "241/241 [==============================] - ETA: 0s - loss: 0.3154 - accuracy: 0.8579\n",
      "Epoch 1: val_accuracy improved from -inf to 0.89627, saving model to best_model.h5\n",
      "241/241 [==============================] - 45s 135ms/step - loss: 0.3154 - accuracy: 0.8579 - val_loss: 0.2434 - val_accuracy: 0.8963\n",
      "Epoch 2/10\n",
      "241/241 [==============================] - ETA: 0s - loss: 0.2175 - accuracy: 0.9103\n",
      "Epoch 2: val_accuracy improved from 0.89627 to 0.92064, saving model to best_model.h5\n",
      "241/241 [==============================] - 41s 168ms/step - loss: 0.2175 - accuracy: 0.9103 - val_loss: 0.1976 - val_accuracy: 0.9206\n",
      "Epoch 3/10\n",
      "241/241 [==============================] - ETA: 0s - loss: 0.1641 - accuracy: 0.9359\n",
      "Epoch 3: val_accuracy improved from 0.92064 to 0.93880, saving model to best_model.h5\n",
      "241/241 [==============================] - 28s 116ms/step - loss: 0.1641 - accuracy: 0.9359 - val_loss: 0.1538 - val_accuracy: 0.9388\n",
      "Epoch 4/10\n",
      "241/241 [==============================] - ETA: 0s - loss: 0.1331 - accuracy: 0.9472\n",
      "Epoch 4: val_accuracy did not improve from 0.93880\n",
      "241/241 [==============================] - 28s 115ms/step - loss: 0.1331 - accuracy: 0.9472 - val_loss: 0.1687 - val_accuracy: 0.9274\n",
      "Epoch 5/10\n",
      "241/241 [==============================] - ETA: 0s - loss: 0.1191 - accuracy: 0.9518\n",
      "Epoch 5: val_accuracy improved from 0.93880 to 0.95176, saving model to best_model.h5\n",
      "241/241 [==============================] - 28s 116ms/step - loss: 0.1191 - accuracy: 0.9518 - val_loss: 0.1358 - val_accuracy: 0.9518\n",
      "Epoch 6/10\n",
      "241/241 [==============================] - ETA: 0s - loss: 0.0896 - accuracy: 0.9685\n",
      "Epoch 6: val_accuracy did not improve from 0.95176\n",
      "241/241 [==============================] - 28s 117ms/step - loss: 0.0896 - accuracy: 0.9685 - val_loss: 0.1306 - val_accuracy: 0.9518\n",
      "Epoch 7/10\n",
      "241/241 [==============================] - ETA: 0s - loss: 0.0801 - accuracy: 0.9685\n",
      "Epoch 7: val_accuracy improved from 0.95176 to 0.96525, saving model to best_model.h5\n",
      "241/241 [==============================] - 32s 131ms/step - loss: 0.0801 - accuracy: 0.9685 - val_loss: 0.1051 - val_accuracy: 0.9652\n",
      "Epoch 8/10\n",
      "241/241 [==============================] - ETA: 0s - loss: 0.0696 - accuracy: 0.9736\n",
      "Epoch 8: val_accuracy did not improve from 0.96525\n",
      "241/241 [==============================] - 28s 117ms/step - loss: 0.0696 - accuracy: 0.9736 - val_loss: 0.1408 - val_accuracy: 0.9512\n",
      "Epoch 9/10\n",
      "241/241 [==============================] - ETA: 0s - loss: 0.0633 - accuracy: 0.9758\n",
      "Epoch 9: val_accuracy did not improve from 0.96525\n",
      "241/241 [==============================] - 47s 194ms/step - loss: 0.0633 - accuracy: 0.9758 - val_loss: 0.1214 - val_accuracy: 0.9564\n",
      "Epoch 10/10\n",
      "241/241 [==============================] - ETA: 0s - loss: 0.0520 - accuracy: 0.9796\n",
      "Epoch 10: val_accuracy improved from 0.96525 to 0.96732, saving model to best_model.h5\n",
      "241/241 [==============================] - 42s 170ms/step - loss: 0.0520 - accuracy: 0.9796 - val_loss: 0.1118 - val_accuracy: 0.9673\n"
     ]
    }
   ],
   "source": [
    "epochs=10\n",
    "with tf.device('/GPU:0'):\n",
    "    history = model.fit(train_ds, validation_data=val_ds, epochs=epochs, callbacks=[checkpoint_callback])\n"
   ]
  },
  {
   "cell_type": "code",
   "execution_count": 15,
   "metadata": {},
   "outputs": [
    {
     "data": {
      "image/png": "[encoded data removed]",
      "text/plain": [
       "<Figure size 640x480 with 1 Axes>"
      ]
     },
     "metadata": {},
     "output_type": "display_data"
    }
   ],
   "source": [
    "# Plot training history\n",
    "plt.plot(history.history[\"accuracy\"], label=\"Train Accuracy\")\n",
    "plt.plot(history.history[\"val_accuracy\"], label=\"Val Accuracy\")\n",
    "plt.legend()\n",
    "plt.show()"
   ]
  },
  {
   "cell_type": "code",
   "execution_count": null,
   "metadata": {},
   "outputs": [],
   "source": []
  }
 ],
 "metadata": {
  "kernelspec": {
   "display_name": "tf_backup",
   "language": "python",
   "name": "python3"
  },
  "language_info": {
   "codemirror_mode": {
    "name": "ipython",
    "version": 3
   },
   "file_extension": ".py",
   "mimetype": "text/x-python",
   "name": "python",
   "nbconvert_exporter": "python",
   "pygments_lexer": "ipython3",
   "version": "3.9.21"
  }
 },
 "nbformat": 4,
 "nbformat_minor": 2
}
